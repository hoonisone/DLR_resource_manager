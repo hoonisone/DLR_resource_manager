{
 "cells": [
  {
   "cell_type": "code",
   "execution_count": 1,
   "id": "ec98d0e9",
   "metadata": {},
   "outputs": [],
   "source": [
    "import os\n",
    "os.chdir(\"W:/RM/src\")\n",
    "\n",
    "from pathlib import Path\n",
    "from rm.db.factory import FileSystemDBFactory\n"
   ]
  },
  {
   "cell_type": "code",
   "execution_count": 2,
   "id": "c4b9cf63",
   "metadata": {},
   "outputs": [],
   "source": [
    "resource_path = Path(\"W:/RM/dir_db\")\n",
    "resource_path.mkdir(parents=True, exist_ok=True)\n",
    "(resource_path/\"a/a/a___id_1\").mkdir(parents=True, exist_ok=True)\n",
    "(resource_path/\"a/a/b___id_2\").mkdir(parents=True, exist_ok=True)\n",
    "(resource_path/\"a/a/c___id_3\").mkdir(parents=True, exist_ok=True)\n",
    "(resource_path/\"a/a___id_4\").mkdir(parents=True, exist_ok=True)\n",
    "(resource_path/\"a/b___id_5\").mkdir(parents=True, exist_ok=True)\n",
    "(resource_path/\"b___id_6\").mkdir(parents=True, exist_ok=True)\n",
    "(resource_path/\"c___id_7\").mkdir(parents=True, exist_ok=True)\n"
   ]
  },
  {
   "cell_type": "code",
   "execution_count": 3,
   "id": "99985e4d",
   "metadata": {},
   "outputs": [],
   "source": [
    "resource_path = Path(\"W:/RM/file_db\")\n",
    "resource_path.mkdir(parents=True, exist_ok=True)\n",
    "(resource_path/\"a/a\").mkdir(parents=True, exist_ok=True)\n",
    "(resource_path/\"a/b\").mkdir(parents=True, exist_ok=True)\n",
    "(resource_path/\"a/a/a___id_1.json\").touch()\n",
    "(resource_path/\"a/a/b___id_2.json\").touch()\n",
    "(resource_path/\"a/a/c___id_3.json\").touch()\n",
    "(resource_path/\"a/a___id_4.json\").touch()\n",
    "(resource_path/\"a/b___id_5.json\").touch()\n",
    "(resource_path/\"b___id_6.json\").touch()\n",
    "(resource_path/\"c___id_7.json\").touch()"
   ]
  },
  {
   "cell_type": "code",
   "execution_count": 2,
   "id": "1194c44b",
   "metadata": {},
   "outputs": [],
   "source": [
    "use_file_db = False\n",
    "\n",
    "if use_file_db:\n",
    "    resource_path = Path(\"W:/RM/file_db\")\n",
    "    db = FileSystemDBFactory(resource_path).file_db\n",
    "else:\n",
    "    resource_path = Path(\"W:/RM/dir_db\")\n",
    "    db = FileSystemDBFactory(resource_path).dir_db"
   ]
  },
  {
   "cell_type": "code",
   "execution_count": 3,
   "id": "fa56decb",
   "metadata": {},
   "outputs": [
    {
     "name": "stdout",
     "output_type": "stream",
     "text": [
      "└── W:/RM/dir_db\n",
      "    ├── a\n",
      "    │   ├── a\n",
      "    │   │   ├── a___id_1\n",
      "    │   │   ├── b___id_2\n",
      "    │   │   └── c___id_3\n",
      "    │   ├── a___id_4\n",
      "    │   └── b___id_5\n",
      "    ├── b___id_6\n",
      "    └── c___id_7\n"
     ]
    },
    {
     "data": {
      "text/plain": [
       "CustomProperty(name='test', age=10, option='test')"
      ]
     },
     "execution_count": 3,
     "metadata": {},
     "output_type": "execute_result"
    }
   ],
   "source": [
    "db.print_tree()\n",
    "db.get_record(1).prop"
   ]
  },
  {
   "cell_type": "code",
   "execution_count": 4,
   "id": "536cc994",
   "metadata": {},
   "outputs": [],
   "source": [
    "record = db.get_record(1)\n",
    "\n"
   ]
  },
  {
   "cell_type": "code",
   "execution_count": 5,
   "id": "7b5a1b1c",
   "metadata": {},
   "outputs": [
    {
     "data": {
      "text/plain": [
       "CustomProperty(name='test', age=10, option='test')"
      ]
     },
     "execution_count": 5,
     "metadata": {},
     "output_type": "execute_result"
    }
   ],
   "source": [
    "record.prop"
   ]
  },
  {
   "cell_type": "code",
   "execution_count": null,
   "id": "afe74f8d",
   "metadata": {},
   "outputs": [],
   "source": []
  },
  {
   "cell_type": "code",
   "execution_count": null,
   "id": "85653fa3",
   "metadata": {},
   "outputs": [],
   "source": [
    "record.prop = prop"
   ]
  },
  {
   "cell_type": "code",
   "execution_count": null,
   "id": "b1077102",
   "metadata": {},
   "outputs": [],
   "source": []
  },
  {
   "cell_type": "code",
   "execution_count": 5,
   "id": "ce84810b",
   "metadata": {},
   "outputs": [
    {
     "name": "stdout",
     "output_type": "stream",
     "text": [
      "└── W:/RM/test_resource\n",
      "    ├── a\n",
      "    │   ├── a\n",
      "    │   │   ├── a___id_1\n",
      "    │   │   ├── b___id_2\n",
      "    │   │   └── c___id_3\n",
      "    │   ├── a___id_4\n",
      "    │   └── b___id_5\n",
      "    ├── aaa\n",
      "    │   └── bbb\n",
      "    │       ├── ccc___id_10\n",
      "    │       ├── ccc___id_8\n",
      "    │       └── ccc___id_9\n",
      "    ├── b___id_6\n",
      "    └── c___id_7\n"
     ]
    }
   ],
   "source": [
    "db.pruning()\n",
    "db.print_tree()"
   ]
  },
  {
   "cell_type": "code",
   "execution_count": 6,
   "id": "00f39d19",
   "metadata": {},
   "outputs": [
    {
     "data": {
      "text/plain": [
       "FileSystemRecord(db=FileSystemDB(root_dir_path=WindowsPath('W:/RM/test_resource'), RecordClass=<class 'rm.db.db.FileSystemRecord'>, element_type=<ElementType.FILE: 'file'>, name_id_parser=File_Name_ID_Parser(ID_PATTERN='___id_(\\\\d+)$')), id=11, dir_path=WindowsPath('W:/RM/test_resource/aaa/bbb/ccc___id_11'))"
      ]
     },
     "execution_count": 6,
     "metadata": {},
     "output_type": "execute_result"
    }
   ],
   "source": [
    "db.create(\"aaa/bbb/ccc\")"
   ]
  },
  {
   "cell_type": "code",
   "execution_count": 7,
   "id": "8288e005",
   "metadata": {},
   "outputs": [
    {
     "name": "stdout",
     "output_type": "stream",
     "text": [
      "└── W:/RM/test_resource\n",
      "    ├── a\n",
      "    │   ├── a\n",
      "    │   │   ├── a___id_1\n",
      "    │   │   ├── b___id_2\n",
      "    │   │   └── c___id_3\n",
      "    │   ├── a___id_4\n",
      "    │   └── b___id_5\n",
      "    ├── aaa\n",
      "    │   └── bbb\n",
      "    │       ├── ccc___id_10\n",
      "    │       ├── ccc___id_8\n",
      "    │       ├── ccc___id_9\n",
      "    │       └── ccc___id_11\n",
      "    ├── b___id_6\n",
      "    └── c___id_7\n"
     ]
    }
   ],
   "source": [
    "db.print_tree()"
   ]
  },
  {
   "cell_type": "code",
   "execution_count": 8,
   "id": "f44a4859",
   "metadata": {},
   "outputs": [
    {
     "name": "stdout",
     "output_type": "stream",
     "text": [
      "└── W:/RM/test_resource\n",
      "    ├── a\n",
      "    │   ├── a\n",
      "    │   │   ├── b___id_2\n",
      "    │   │   └── c___id_3\n",
      "    │   ├── a___id_4\n",
      "    │   └── b___id_5\n",
      "    ├── aaa\n",
      "    │   └── bbb\n",
      "    │       ├── ccc___id_10\n",
      "    │       ├── ccc___id_8\n",
      "    │       ├── ccc___id_9\n",
      "    │       └── ccc___id_11\n",
      "    ├── b___id_6\n",
      "    └── c___id_7\n"
     ]
    }
   ],
   "source": [
    "db.remove(1)\n",
    "db.pruning()\n",
    "db.print_tree()"
   ]
  },
  {
   "cell_type": "code",
   "execution_count": 8,
   "id": "7bb01b01",
   "metadata": {},
   "outputs": [
    {
     "name": "stdout",
     "output_type": "stream",
     "text": [
      "└── W:/RM/test_resource\n",
      "    ├── a\n",
      "    │   ├── a___id_4\n",
      "    │   └── b___id_5\n",
      "    ├── b___id_6\n",
      "    ├── c___id_7\n",
      "    └── aaa\n",
      "        └── bbb\n",
      "            └── ccc___id_8\n"
     ]
    }
   ],
   "source": [
    "db.remove(2)\n",
    "db.remove(3)\n",
    "db.pruning()\n",
    "db.print_tree()"
   ]
  },
  {
   "cell_type": "code",
   "execution_count": 9,
   "id": "88825ef5",
   "metadata": {},
   "outputs": [
    {
     "name": "stdout",
     "output_type": "stream",
     "text": [
      "└── W:/RM/test_resource\n",
      "    ├── a\n",
      "    │   ├── a___id_4\n",
      "    │   └── b___id_5\n",
      "    ├── aaa\n",
      "    │   └── bbb\n",
      "    │       ├── ccc___id_8\n",
      "    │       ├── ccc___id_9\n",
      "    │       └── ccc___id_10\n",
      "    ├── b___id_6\n",
      "    └── c___id_7\n"
     ]
    }
   ],
   "source": [
    "db.print_tree()"
   ]
  },
  {
   "cell_type": "code",
   "execution_count": 10,
   "id": "020494de",
   "metadata": {},
   "outputs": [
    {
     "ename": "AttributeError",
     "evalue": "'FileSystemDB' object has no attribute 'get'",
     "output_type": "error",
     "traceback": [
      "\u001b[1;31m---------------------------------------------------------------------------\u001b[0m",
      "\u001b[1;31mAttributeError\u001b[0m                            Traceback (most recent call last)",
      "Cell \u001b[1;32mIn[10], line 1\u001b[0m\n\u001b[1;32m----> 1\u001b[0m c \u001b[38;5;241m=\u001b[39m \u001b[43mdb\u001b[49m\u001b[38;5;241;43m.\u001b[39;49m\u001b[43mget\u001b[49m(Path(\u001b[38;5;124m\"\u001b[39m\u001b[38;5;124ma\u001b[39m\u001b[38;5;124m\"\u001b[39m))\u001b[38;5;241m.\u001b[39mrename(\u001b[38;5;124m\"\u001b[39m\u001b[38;5;124mccc\u001b[39m\u001b[38;5;124m\"\u001b[39m)\u001b[38;5;241m.\u001b[39mparent\u001b[38;5;241m.\u001b[39munlink(\u001b[38;5;124m\"\u001b[39m\u001b[38;5;124mccc\u001b[39m\u001b[38;5;124m\"\u001b[39m)\n",
      "\u001b[1;31mAttributeError\u001b[0m: 'FileSystemDB' object has no attribute 'get'"
     ]
    }
   ],
   "source": [
    "c = db.get(Path(\"a\")).rename(\"ccc\").parent.unlink(\"ccc\")"
   ]
  },
  {
   "cell_type": "code",
   "execution_count": null,
   "id": "1e574ab1",
   "metadata": {},
   "outputs": [
    {
     "data": {
      "text/plain": [
       "7"
      ]
     },
     "execution_count": 13,
     "metadata": {},
     "output_type": "execute_result"
    }
   ],
   "source": [
    "c.size"
   ]
  },
  {
   "cell_type": "code",
   "execution_count": null,
   "id": "dadcd0f8",
   "metadata": {},
   "outputs": [
    {
     "data": {
      "text/plain": [
       "[DBTreeNode(name='a___id_4', _name_children={}, _LikableTreeNode__root=DBTreeNode(name='W:/RM/test_resource', _name_children={'a': DBTreeNode(name='a', _name_children={'a___id_4': ..., 'b___id_5': DBTreeNode(name='b___id_5', _name_children={}, _LikableTreeNode__root=..., _parent=..., _depth=2, type=<TerminalType.DIR: 'dir'>, _PathTreeNode__file_system_sync_on=True)}, _LikableTreeNode__root=..., _parent=..., _depth=1, type=<TerminalType.DIR: 'dir'>, _PathTreeNode__file_system_sync_on=True), 'b___id_6': DBTreeNode(name='b___id_6', _name_children={}, _LikableTreeNode__root=..., _parent=..., _depth=1, type=<TerminalType.DIR: 'dir'>, _PathTreeNode__file_system_sync_on=True), 'c___id_7': DBTreeNode(name='c___id_7', _name_children={}, _LikableTreeNode__root=..., _parent=..., _depth=1, type=<TerminalType.DIR: 'dir'>, _PathTreeNode__file_system_sync_on=True)}, _LikableTreeNode__root=..., _parent=None, _depth=0, type=<TerminalType.DIR: 'dir'>, _PathTreeNode__file_system_sync_on=True), _parent=DBTreeNode(name='a', _name_children={'a___id_4': ..., 'b___id_5': DBTreeNode(name='b___id_5', _name_children={}, _LikableTreeNode__root=DBTreeNode(name='W:/RM/test_resource', _name_children={'a': ..., 'b___id_6': DBTreeNode(name='b___id_6', _name_children={}, _LikableTreeNode__root=..., _parent=..., _depth=1, type=<TerminalType.DIR: 'dir'>, _PathTreeNode__file_system_sync_on=True), 'c___id_7': DBTreeNode(name='c___id_7', _name_children={}, _LikableTreeNode__root=..., _parent=..., _depth=1, type=<TerminalType.DIR: 'dir'>, _PathTreeNode__file_system_sync_on=True)}, _LikableTreeNode__root=..., _parent=None, _depth=0, type=<TerminalType.DIR: 'dir'>, _PathTreeNode__file_system_sync_on=True), _parent=..., _depth=2, type=<TerminalType.DIR: 'dir'>, _PathTreeNode__file_system_sync_on=True)}, _LikableTreeNode__root=DBTreeNode(name='W:/RM/test_resource', _name_children={'a': ..., 'b___id_6': DBTreeNode(name='b___id_6', _name_children={}, _LikableTreeNode__root=..., _parent=..., _depth=1, type=<TerminalType.DIR: 'dir'>, _PathTreeNode__file_system_sync_on=True), 'c___id_7': DBTreeNode(name='c___id_7', _name_children={}, _LikableTreeNode__root=..., _parent=..., _depth=1, type=<TerminalType.DIR: 'dir'>, _PathTreeNode__file_system_sync_on=True)}, _LikableTreeNode__root=..., _parent=None, _depth=0, type=<TerminalType.DIR: 'dir'>, _PathTreeNode__file_system_sync_on=True), _parent=DBTreeNode(name='W:/RM/test_resource', _name_children={'a': ..., 'b___id_6': DBTreeNode(name='b___id_6', _name_children={}, _LikableTreeNode__root=..., _parent=..., _depth=1, type=<TerminalType.DIR: 'dir'>, _PathTreeNode__file_system_sync_on=True), 'c___id_7': DBTreeNode(name='c___id_7', _name_children={}, _LikableTreeNode__root=..., _parent=..., _depth=1, type=<TerminalType.DIR: 'dir'>, _PathTreeNode__file_system_sync_on=True)}, _LikableTreeNode__root=..., _parent=None, _depth=0, type=<TerminalType.DIR: 'dir'>, _PathTreeNode__file_system_sync_on=True), _depth=1, type=<TerminalType.DIR: 'dir'>, _PathTreeNode__file_system_sync_on=True), _depth=2, type=<TerminalType.DIR: 'dir'>, _PathTreeNode__file_system_sync_on=True),\n",
       " DBTreeNode(name='b___id_5', _name_children={}, _LikableTreeNode__root=DBTreeNode(name='W:/RM/test_resource', _name_children={'a': DBTreeNode(name='a', _name_children={'a___id_4': DBTreeNode(name='a___id_4', _name_children={}, _LikableTreeNode__root=..., _parent=..., _depth=2, type=<TerminalType.DIR: 'dir'>, _PathTreeNode__file_system_sync_on=True), 'b___id_5': ...}, _LikableTreeNode__root=..., _parent=..., _depth=1, type=<TerminalType.DIR: 'dir'>, _PathTreeNode__file_system_sync_on=True), 'b___id_6': DBTreeNode(name='b___id_6', _name_children={}, _LikableTreeNode__root=..., _parent=..., _depth=1, type=<TerminalType.DIR: 'dir'>, _PathTreeNode__file_system_sync_on=True), 'c___id_7': DBTreeNode(name='c___id_7', _name_children={}, _LikableTreeNode__root=..., _parent=..., _depth=1, type=<TerminalType.DIR: 'dir'>, _PathTreeNode__file_system_sync_on=True)}, _LikableTreeNode__root=..., _parent=None, _depth=0, type=<TerminalType.DIR: 'dir'>, _PathTreeNode__file_system_sync_on=True), _parent=DBTreeNode(name='a', _name_children={'a___id_4': DBTreeNode(name='a___id_4', _name_children={}, _LikableTreeNode__root=DBTreeNode(name='W:/RM/test_resource', _name_children={'a': ..., 'b___id_6': DBTreeNode(name='b___id_6', _name_children={}, _LikableTreeNode__root=..., _parent=..., _depth=1, type=<TerminalType.DIR: 'dir'>, _PathTreeNode__file_system_sync_on=True), 'c___id_7': DBTreeNode(name='c___id_7', _name_children={}, _LikableTreeNode__root=..., _parent=..., _depth=1, type=<TerminalType.DIR: 'dir'>, _PathTreeNode__file_system_sync_on=True)}, _LikableTreeNode__root=..., _parent=None, _depth=0, type=<TerminalType.DIR: 'dir'>, _PathTreeNode__file_system_sync_on=True), _parent=..., _depth=2, type=<TerminalType.DIR: 'dir'>, _PathTreeNode__file_system_sync_on=True), 'b___id_5': ...}, _LikableTreeNode__root=DBTreeNode(name='W:/RM/test_resource', _name_children={'a': ..., 'b___id_6': DBTreeNode(name='b___id_6', _name_children={}, _LikableTreeNode__root=..., _parent=..., _depth=1, type=<TerminalType.DIR: 'dir'>, _PathTreeNode__file_system_sync_on=True), 'c___id_7': DBTreeNode(name='c___id_7', _name_children={}, _LikableTreeNode__root=..., _parent=..., _depth=1, type=<TerminalType.DIR: 'dir'>, _PathTreeNode__file_system_sync_on=True)}, _LikableTreeNode__root=..., _parent=None, _depth=0, type=<TerminalType.DIR: 'dir'>, _PathTreeNode__file_system_sync_on=True), _parent=DBTreeNode(name='W:/RM/test_resource', _name_children={'a': ..., 'b___id_6': DBTreeNode(name='b___id_6', _name_children={}, _LikableTreeNode__root=..., _parent=..., _depth=1, type=<TerminalType.DIR: 'dir'>, _PathTreeNode__file_system_sync_on=True), 'c___id_7': DBTreeNode(name='c___id_7', _name_children={}, _LikableTreeNode__root=..., _parent=..., _depth=1, type=<TerminalType.DIR: 'dir'>, _PathTreeNode__file_system_sync_on=True)}, _LikableTreeNode__root=..., _parent=None, _depth=0, type=<TerminalType.DIR: 'dir'>, _PathTreeNode__file_system_sync_on=True), _depth=1, type=<TerminalType.DIR: 'dir'>, _PathTreeNode__file_system_sync_on=True), _depth=2, type=<TerminalType.DIR: 'dir'>, _PathTreeNode__file_system_sync_on=True)]"
      ]
     },
     "execution_count": 9,
     "metadata": {},
     "output_type": "execute_result"
    }
   ],
   "source": [
    "db.get(Path(\"a\")).children"
   ]
  },
  {
   "cell_type": "code",
   "execution_count": null,
   "id": "034976b0",
   "metadata": {},
   "outputs": [],
   "source": []
  },
  {
   "cell_type": "code",
   "execution_count": null,
   "id": "df77017f",
   "metadata": {},
   "outputs": [
    {
     "ename": "ModuleNotFoundError",
     "evalue": "No module named 'mmdet_rm'",
     "output_type": "error",
     "traceback": [
      "\u001b[1;31m---------------------------------------------------------------------------\u001b[0m",
      "\u001b[1;31mModuleNotFoundError\u001b[0m                       Traceback (most recent call last)",
      "Cell \u001b[1;32mIn[14], line 1\u001b[0m\n\u001b[1;32m----> 1\u001b[0m \u001b[38;5;28;01mfrom\u001b[39;00m \u001b[38;5;21;01mmmdet_rm\u001b[39;00m\u001b[38;5;21;01m.\u001b[39;00m\u001b[38;5;21;01mfactory\u001b[39;00m \u001b[38;5;28;01mimport\u001b[39;00m MMDetection_RM_Factory\n\u001b[0;32m      3\u001b[0m factory \u001b[38;5;241m=\u001b[39m MMDetection_RM_Factory()\n",
      "\u001b[1;31mModuleNotFoundError\u001b[0m: No module named 'mmdet_rm'"
     ]
    }
   ],
   "source": [
    "from mmdet_rm.factory import MMDetection_RM_Factory\n",
    "\n",
    "factory = MMDetection_RM_Factory()\n"
   ]
  },
  {
   "cell_type": "code",
   "execution_count": null,
   "id": "8d21c85c",
   "metadata": {},
   "outputs": [],
   "source": [
    "from pathlib import Path\n",
    "\n",
    "p = Path(\"user/docs/file.txt\")\n",
    "print(p.anchor)  # 출력: '/'\n",
    "list(p.parents)\n",
    "p.parts"
   ]
  },
  {
   "cell_type": "code",
   "execution_count": null,
   "id": "9f4c16cf",
   "metadata": {},
   "outputs": [],
   "source": [
    "import os\n",
    "from pathlib import Path\n",
    "os.chdir(\"W:/RM/src\")\n",
    "\n",
    "\n",
    "from pydantic import BaseModel\n",
    "from typing import Optional\n",
    "\n",
    "class TestProperty(BaseModel):\n",
    "    a:Optional[int] = None\n",
    "    b:Optional[str] = None\n",
    "\n",
    "\n",
    "\n"
   ]
  },
  {
   "cell_type": "code",
   "execution_count": null,
   "id": "a637ee2c",
   "metadata": {},
   "outputs": [
    {
     "name": "stdout",
     "output_type": "stream",
     "text": [
      "{}\n"
     ]
    },
    {
     "data": {
      "text/plain": [
       "TestProperty(a=None, b=None)"
      ]
     },
     "execution_count": 2,
     "metadata": {},
     "output_type": "execute_result"
    }
   ],
   "source": [
    "from rm.db.record import PropertyRecord\n",
    "x = PropertyRecord(dir_path=Path(\"test\"), id=1, db=None, property_class=TestProperty)\n",
    "x.prop"
   ]
  },
  {
   "cell_type": "code",
   "execution_count": 9,
   "id": "7f44f362",
   "metadata": {},
   "outputs": [
    {
     "data": {
      "text/plain": [
       "TestProperty(a=None, b=None)"
      ]
     },
     "execution_count": 9,
     "metadata": {},
     "output_type": "execute_result"
    }
   ],
   "source": [
    "TestProperty(**{})"
   ]
  },
  {
   "cell_type": "code",
   "execution_count": 3,
   "id": "debaafa3",
   "metadata": {},
   "outputs": [
    {
     "ename": "NameError",
     "evalue": "name 'root' is not defined",
     "output_type": "error",
     "traceback": [
      "\u001b[1;31m---------------------------------------------------------------------------\u001b[0m",
      "\u001b[1;31mNameError\u001b[0m                                 Traceback (most recent call last)",
      "Cell \u001b[1;32mIn[3], line 1\u001b[0m\n\u001b[1;32m----> 1\u001b[0m (\u001b[43mroot\u001b[49m\u001b[38;5;241m/\u001b[39ma)\u001b[38;5;241m.\u001b[39mparent\u001b[38;5;241m.\u001b[39mmkdir(parents\u001b[38;5;241m=\u001b[39m\u001b[38;5;28;01mTrue\u001b[39;00m, exist_ok\u001b[38;5;241m=\u001b[39m\u001b[38;5;28;01mTrue\u001b[39;00m)\n",
      "\u001b[1;31mNameError\u001b[0m: name 'root' is not defined"
     ]
    }
   ],
   "source": [
    "(root/a).parent.mkdir(parents=True, exist_ok=True)\n"
   ]
  },
  {
   "cell_type": "code",
   "execution_count": null,
   "id": "c4da6ac2",
   "metadata": {},
   "outputs": [
    {
     "data": {
      "text/plain": [
       "WindowsPath('root/1/2/3/4/5/6/7/8/9/10')"
      ]
     },
     "execution_count": 9,
     "metadata": {},
     "output_type": "execute_result"
    }
   ],
   "source": [
    "a.rename(root/a)"
   ]
  },
  {
   "cell_type": "code",
   "execution_count": null,
   "id": "6f7712c2",
   "metadata": {},
   "outputs": [
    {
     "data": {
      "text/plain": [
       "True"
      ]
     },
     "execution_count": 4,
     "metadata": {},
     "output_type": "execute_result"
    }
   ],
   "source": [
    "from rm.resource_db.db import ResourceDB"
   ]
  },
  {
   "cell_type": "code",
   "execution_count": null,
   "id": "732c1839",
   "metadata": {},
   "outputs": [
    {
     "data": {
      "text/plain": [
       "WindowsPath('root/1/2/3/4/5/6/7/8/9/10')"
      ]
     },
     "execution_count": 5,
     "metadata": {},
     "output_type": "execute_result"
    }
   ],
   "source": [
    "(root/a)."
   ]
  },
  {
   "cell_type": "code",
   "execution_count": null,
   "id": "2d47e2e9",
   "metadata": {},
   "outputs": [
    {
     "data": {
      "text/plain": [
       "[1, 2, 3]"
      ]
     },
     "execution_count": 3,
     "metadata": {},
     "output_type": "execute_result"
    }
   ],
   "source": [
    "x = {\"a\":[1, 2, 3]}\n",
    "y = x['a']\n",
    "del x['a']\n",
    "y"
   ]
  },
  {
   "cell_type": "code",
   "execution_count": null,
   "id": "920e8fc9",
   "metadata": {},
   "outputs": [
    {
     "name": "stdout",
     "output_type": "stream",
     "text": [
      "└── a\n",
      "    ├── bss\n",
      "    ├── c\n",
      "    ├── a\n",
      "    │   └── b\n",
      "    │       └── c\n",
      "    │           └── d\n",
      "    │               ├── 1\n",
      "    │               │   └── 2\n",
      "    │               │       └── 3\n",
      "    │               │           └── v.txt\n",
      "    │               └── 3\n",
      "    │                   └── 4\n",
      "    │                       └── 5\n",
      "    │                           └── v.txt\n",
      "    ├── e\n",
      "    │   └── f\n",
      "    │       └── g\n",
      "    ├── g\n",
      "    ├── h\n",
      "    ├── i\n",
      "    │   └── k\n",
      "    └── j\n"
     ]
    }
   ],
   "source": [
    "import os\n",
    "os.chdir(\"W:/RM/src\")\n",
    "from pathlib import Path\n",
    "from rm.dirdb.new_dirdb import PurePathTreeNode, TreeNode\n",
    "\n",
    "root = PurePathTreeNode(root=None, parent=None, name=\"a\", depth=0)\n",
    "root.create_child(\"bss\")\n",
    "root.create_child(\"c\")\n",
    "root.create_child(Path(\"a/b/c/d/1/2/3/v.txt\"))\n",
    "root.create_child(Path(\"a/b/c/d/3/4/5/v.txt\"))\n",
    "root.create_child([\"e\", \"f\", \"g\"])\n",
    "root.create_child(\"g\")\n",
    "root.create_child(\"h\")\n",
    "child = root.create_child(\"i\")\n",
    "root.create_child(\"j\")\n",
    "\n",
    "child.create_child(\"k\")\n",
    "\n",
    "root.print_tree()\n",
    "\n"
   ]
  },
  {
   "cell_type": "code",
   "execution_count": null,
   "id": "d90d082a",
   "metadata": {},
   "outputs": [
    {
     "data": {
      "text/plain": [
       "False"
      ]
     },
     "execution_count": 7,
     "metadata": {},
     "output_type": "execute_result"
    }
   ],
   "source": [
    "Path(\"a/b/c/d/1/2/3/v.txt\").is_file()"
   ]
  },
  {
   "cell_type": "code",
   "execution_count": null,
   "id": "575f8409",
   "metadata": {},
   "outputs": [
    {
     "name": "stdout",
     "output_type": "stream",
     "text": [
      "['a', 'b', 'c', 'd', '1', '2', '3', 'v.txt']\n",
      "['b', 'c', 'd', '1', '2', '3', 'v.txt']\n",
      "['c', 'd', '1', '2', '3', 'v.txt']\n",
      "['d', '1', '2', '3', 'v.txt']\n",
      "['1', '2', '3', 'v.txt']\n",
      "['2', '3', 'v.txt']\n",
      "['3', 'v.txt']\n",
      "['v.txt']\n"
     ]
    }
   ],
   "source": [
    "root.remove_child(Path(\"a/b/c/d/1/2/3/v.txt\"))\n",
    "\n"
   ]
  },
  {
   "cell_type": "code",
   "execution_count": null,
   "id": "621c1f5d",
   "metadata": {},
   "outputs": [
    {
     "name": "stdout",
     "output_type": "stream",
     "text": [
      "└── a\n",
      "    ├── bss\n",
      "    ├── c\n",
      "    ├── a\n",
      "    │   └── b\n",
      "    │       └── c\n",
      "    │           └── d\n",
      "    │               └── 3\n",
      "    │                   └── 4\n",
      "    │                       └── 5\n",
      "    │                           └── v.txt\n",
      "    ├── e\n",
      "    │   └── f\n",
      "    │       └── g\n",
      "    ├── g\n",
      "    ├── h\n",
      "    ├── i\n",
      "    │   └── k\n",
      "    └── j\n"
     ]
    }
   ],
   "source": [
    "root.print_tree()"
   ]
  },
  {
   "cell_type": "code",
   "execution_count": null,
   "id": "6f4efe89",
   "metadata": {},
   "outputs": [],
   "source": [
    "from pathlib import Path\n",
    "import shutil\n",
    "from rm.dirtree import DirTreeFactory\n",
    "\n",
    "Path(\"test___id_10\").with_suffix('.yaml')\n",
    "\n",
    "\n",
    "\n",
    "\n",
    "\n",
    "\n",
    "\n",
    "Path(\"a/a\").mkdir(exist_ok=True, parents=True)\n",
    "Path(\"a/a/a___id_0.yaml\").touch()\n",
    "Path(\"a/a/b___id_1.yaml\").touch()\n",
    "Path(\"a/b___id_2.yaml\").touch()\n",
    "\n",
    "tree = DirTreeFactory().get_file_tree(Path(\"a\"))\n",
    "tree.children\n",
    "\n",
    "shutil.rmtree(\"a\")\n"
   ]
  },
  {
   "cell_type": "code",
   "execution_count": null,
   "id": "74089b1b",
   "metadata": {},
   "outputs": [],
   "source": [
    "from abc import ABC, abstractmethod\n",
    "from typing import Protocol\n",
    "\n",
    "class ActualStore(Protocol):\n",
    "    def load(self, path): ...\n",
    "\n",
    "class ActualStoreImpl(ActualStore):\n",
    "    def load(self, path):\n",
    "        pass\n",
    "\n",
    "class HookWrapper(ActualStore):\n",
    "    def __init__(self, store):\n",
    "        self.store = store\n",
    "\n",
    "    def __getattr__(self, name):\n",
    "        print(f\"__getattr__ triggered for {name}\")\n",
    "        return getattr(self.store, name)\n",
    "\n",
    "wrapper = HookWrapper(ActualStoreImpl())\n",
    "wrapper.load(\"file.txt\")"
   ]
  },
  {
   "cell_type": "code",
   "execution_count": null,
   "id": "b461f7bb",
   "metadata": {},
   "outputs": [],
   "source": [
    "import re\n",
    "from pathlib import PurePath, Path\n",
    "ID = int\n",
    "NAME = str\n",
    "\n",
    "EXT = str\n",
    "\n",
    "ID_PATTERN: str = r'___id_(\\d+)$'\n",
    "\n",
    "def split(path: PurePath) -> tuple[ID, NAME, EXT]:\n",
    "        path_str = path.as_posix()\n",
    "        match = re.search(ID_PATTERN, path_str)\n",
    "        id = int(match.group(1)) if match else None\n",
    "\n",
    "        # 확장자 분리\n",
    "        stem = path.name  # 예: name___id_10.yaml\n",
    "        name_with_id, ext = stem.rsplit('.', 1)  # 'name___id_10', 'yaml'\n",
    "\n",
    "        # id 제거한 name 추출\n",
    "        name = name_with_id.replace(f\"___id_{id}\", \"\") if id is not None else name_with_id\n",
    "        return (id, name, ext)\n",
    "\n",
    "\n",
    "split(Path(\"name___id_10.yaml\"))\n"
   ]
  },
  {
   "cell_type": "code",
   "execution_count": null,
   "id": "05961848",
   "metadata": {},
   "outputs": [],
   "source": [
    "from dataclasses import dataclass\n",
    "from typing import ClassVar, Any, Generic, List, TypeVar, cast\n",
    "from pathlib import Path\n",
    "\n",
    "class A:\n",
    "    def f(self):\n",
    "        print(\"f\")\n",
    "\n",
    "    @property\n",
    "    def path(self)->Path:\n",
    "        return Path(\"path\")\n",
    "\n",
    "INNER_TYPE = TypeVar(\"INNER_TYPE\")\n",
    "\n",
    "@dataclass\n",
    "class Wrapper(Generic[INNER_TYPE]):\n",
    "    inner_obj: INNER_TYPE\n",
    "\n",
    "    @staticmethod\n",
    "    def make(inner_obj: INNER_TYPE)->\"INNER_TYPE\":\n",
    "        return cast(INNER_TYPE, Wrapper(inner_obj))\n",
    "\n",
    "\n",
    "    def __getattr__(self, name: str) -> Any:\n",
    "        return getattr(self.inner_obj, name)\n",
    "\n",
    "a = Wrapper[A].make(A())\n",
    "a.f()\n",
    "a.path"
   ]
  },
  {
   "cell_type": "code",
   "execution_count": null,
   "id": "d3106f6a",
   "metadata": {},
   "outputs": [],
   "source": [
    "work.task_db"
   ]
  },
  {
   "cell_type": "code",
   "execution_count": null,
   "id": "c9dfd6ba",
   "metadata": {},
   "outputs": [],
   "source": [
    "work.create_train_task(1, 1, 1)"
   ]
  },
  {
   "cell_type": "code",
   "execution_count": null,
   "id": "2ca64cfc",
   "metadata": {},
   "outputs": [],
   "source": [
    "work.task_view.table"
   ]
  },
  {
   "cell_type": "code",
   "execution_count": null,
   "id": "94fe74e6",
   "metadata": {},
   "outputs": [],
   "source": [
    "from resource_manager_mmdetection.env_config import project_root\n",
    "\n",
    "project_root"
   ]
  },
  {
   "cell_type": "code",
   "execution_count": null,
   "id": "ceacc491",
   "metadata": {},
   "outputs": [],
   "source": [
    "from dataclasses import dataclass, asdict, is_dataclass, fields\n",
    "import json\n",
    "from typing import Any, Type\n",
    "\n",
    "# ✅ 1. 저장: dataclass → JSON\n",
    "def save_dataclass_to_json(obj: Any, filepath: str):\n",
    "    if not is_dataclass(obj):\n",
    "        raise TypeError(\"Input must be a dataclass instance.\")\n",
    "    with open(filepath, 'w') as f:\n",
    "        json.dump(asdict(obj), f, indent=2)\n",
    "\n",
    "# ✅ 2. 로드: JSON → dataclass (재귀 지원)\n",
    "def from_dict(cls: Type[Any], data: dict) -> Any:\n",
    "    \"\"\"\n",
    "    재귀적으로 dict 데이터를 dataclass로 변환\n",
    "    \"\"\"\n",
    "    if not is_dataclass(cls):\n",
    "        raise TypeError(\"cls must be a dataclass type.\")\n",
    "    kwargs = {}\n",
    "    for field in fields(cls):\n",
    "        value = data.get(field.name)\n",
    "        if is_dataclass(field.type) and isinstance(value, dict):\n",
    "            value = from_dict(field.type, value)\n",
    "        kwargs[field.name] = value\n",
    "    return cls(**kwargs)\n",
    "\n",
    "def load_dataclass_from_json(cls: Type[Any], filepath: str) -> Any:\n",
    "    with open(filepath, 'r') as f:\n",
    "        data = json.load(f)\n",
    "    return from_dict(cls, data)\n"
   ]
  },
  {
   "cell_type": "code",
   "execution_count": null,
   "id": "be965873",
   "metadata": {},
   "outputs": [],
   "source": [
    "import os\n",
    "os.chdir(\"W:/RM/src\")"
   ]
  },
  {
   "cell_type": "code",
   "execution_count": null,
   "id": "4c985822",
   "metadata": {},
   "outputs": [],
   "source": [
    "from rm.memo import MemoFactory\n",
    "\n",
    "import json\n",
    "from pathlib import Path\n",
    "from pydantic import BaseModel, Field, PrivateAttr\n",
    "from typing import Type, TypeVar\n",
    "from rm.memo import FileMemo\n",
    "\n",
    "T = TypeVar(\"T\", bound=\"AutoSavingModel\")\n",
    "\n",
    "\n",
    "class AutoSavingModel(BaseModel):\n",
    "    _memo: FileMemo = PrivateAttr()\n",
    "    _suspend_sync: bool = PrivateAttr(default=False)\n",
    "\n",
    "    def __init__(self, **data):\n",
    "        memo = data.pop(\"_memo\")\n",
    "        super().__init__(**data)\n",
    "        self._memo = memo\n",
    "        self._save()\n",
    "\n",
    "    def __setattr__(self, name, value):\n",
    "        super().__setattr__(name, value)\n",
    "        if not name.startswith(\"_\") and not self._suspend_sync:\n",
    "            self._save()\n",
    "\n",
    "    # @property\n",
    "    # def memo(self):\n",
    "    #     return self._memo_factory.make_file_memo(Path(\"test.json\"))\n",
    "\n",
    "    def _save(self):\n",
    "        self._memo.set(self.model_dump())\n",
    "\n",
    "    @classmethod\n",
    "    def load(cls: Type[T], memo: FileMemo) -> T:\n",
    "        content = memo.get()\n",
    "        return cls(_memo=memo, **content)\n",
    "\n",
    "class ModelConfig(AutoSavingModel):\n",
    "    name: str = Field(default=\"resnet\")\n",
    "    layers: int = Field(default=50)\n",
    "\n",
    "\n",
    "file_path = Path(\"test.json\")\n",
    "memo = MemoFactory().make_file_memo(file_path)\n",
    "\n",
    "# x = ModelConfig(_memo=memo, name=\"resnet\")\n",
    "# x._save()\n",
    "\n",
    "# x.name = \"hello1\"\n",
    "\n",
    "\n"
   ]
  },
  {
   "cell_type": "code",
   "execution_count": null,
   "id": "2ecc8809",
   "metadata": {},
   "outputs": [],
   "source": [
    "memo.content"
   ]
  },
  {
   "cell_type": "code",
   "execution_count": null,
   "id": "97638f18",
   "metadata": {},
   "outputs": [],
   "source": [
    "ModelConfig.load(memo)"
   ]
  },
  {
   "cell_type": "code",
   "execution_count": null,
   "id": "733ce292",
   "metadata": {},
   "outputs": [],
   "source": [
    "x.memo.file_path"
   ]
  },
  {
   "cell_type": "code",
   "execution_count": null,
   "id": "16efec6e",
   "metadata": {},
   "outputs": [],
   "source": []
  },
  {
   "cell_type": "code",
   "execution_count": null,
   "id": "a9b9c589",
   "metadata": {},
   "outputs": [],
   "source": []
  },
  {
   "cell_type": "code",
   "execution_count": null,
   "id": "b0ffcac4",
   "metadata": {},
   "outputs": [],
   "source": []
  },
  {
   "cell_type": "code",
   "execution_count": null,
   "id": "233c742d",
   "metadata": {},
   "outputs": [],
   "source": []
  },
  {
   "cell_type": "code",
   "execution_count": null,
   "id": "11ca5f88",
   "metadata": {},
   "outputs": [],
   "source": []
  },
  {
   "cell_type": "code",
   "execution_count": null,
   "id": "f1b485ad",
   "metadata": {},
   "outputs": [],
   "source": [
    "class User(BaseModel):\n",
    "    name: str = Field(..., alias='fullName')\n",
    "    age: int\n",
    "\n",
    "u = User(fullName='Alice', age=30)  # ✅ 작동할 수도 있지만...\n",
    "\n",
    "# 보다 확실하게 작동하게 하려면:\n",
    "u = User.model_validate({'fullName': 'Alice', 'age': 30})\n",
    "u"
   ]
  },
  {
   "cell_type": "code",
   "execution_count": null,
   "id": "24239792",
   "metadata": {},
   "outputs": [],
   "source": [
    "is_directly_dataclass(AppConfig)"
   ]
  },
  {
   "cell_type": "code",
   "execution_count": null,
   "id": "567cd344",
   "metadata": {},
   "outputs": [],
   "source": [
    "\n",
    "\n",
    "# 예시 객체\n",
    "config = AppConfig(model=ModelConfig(name=\"resnet\", layers=50), debug=True)\n",
    "\n",
    "# 저장\n",
    "save_dataclass_to_json(config, 'config.json')\n",
    "\n",
    "# 로드\n",
    "loaded_config: AppConfig = load_dataclass_from_json(AppConfig, 'config.json')\n",
    "\n",
    "print(loaded_config)\n",
    "\n",
    "loaded_config.model.layers"
   ]
  },
  {
   "cell_type": "code",
   "execution_count": null,
   "id": "6c258052",
   "metadata": {},
   "outputs": [],
   "source": [
    "loaded_config = load_dataclass_from_json(AppConfig, 'config.json')\n",
    "\n",
    "print(loaded_config)\n"
   ]
  },
  {
   "cell_type": "code",
   "execution_count": null,
   "id": "1f5f0a15",
   "metadata": {},
   "outputs": [],
   "source": []
  },
  {
   "cell_type": "code",
   "execution_count": null,
   "id": "28689e14",
   "metadata": {},
   "outputs": [],
   "source": []
  }
 ],
 "metadata": {
  "kernelspec": {
   "display_name": "GPTalk",
   "language": "python",
   "name": "python3"
  },
  "language_info": {
   "codemirror_mode": {
    "name": "ipython",
    "version": 3
   },
   "file_extension": ".py",
   "mimetype": "text/x-python",
   "name": "python",
   "nbconvert_exporter": "python",
   "pygments_lexer": "ipython3",
   "version": "3.10.0"
  }
 },
 "nbformat": 4,
 "nbformat_minor": 5
}
