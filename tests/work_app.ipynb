{
 "cells": [
  {
   "cell_type": "code",
   "execution_count": 1,
   "id": "ec98d0e9",
   "metadata": {},
   "outputs": [],
   "source": [
    "import os\n",
    "os.chdir(\"W:/RM/src\")"
   ]
  },
  {
   "cell_type": "code",
   "execution_count": 2,
   "id": "df77017f",
   "metadata": {},
   "outputs": [
    {
     "name": "stdout",
     "output_type": "stream",
     "text": [
      "***violating paths***\n",
      "Warning: W:\\RM\\resources\\works\\db_metadata.json is violating the rules\n"
     ]
    }
   ],
   "source": [
    "from mmdetection_rm.work.work_resource import WorkResourceFactory\n",
    "factory = WorkResourceFactory()\n",
    "db = factory.resource_db"
   ]
  },
  {
   "cell_type": "code",
   "execution_count": 3,
   "id": "8d21c85c",
   "metadata": {},
   "outputs": [
    {
     "data": {
      "text/html": [
       "<div>\n",
       "<style scoped>\n",
       "    .dataframe tbody tr th:only-of-type {\n",
       "        vertical-align: middle;\n",
       "    }\n",
       "\n",
       "    .dataframe tbody tr th {\n",
       "        vertical-align: top;\n",
       "    }\n",
       "\n",
       "    .dataframe thead th {\n",
       "        text-align: right;\n",
       "    }\n",
       "</style>\n",
       "<table border=\"1\" class=\"dataframe\">\n",
       "  <thead>\n",
       "    <tr style=\"text-align: right;\">\n",
       "      <th></th>\n",
       "      <th>id</th>\n",
       "      <th>0</th>\n",
       "    </tr>\n",
       "  </thead>\n",
       "  <tbody>\n",
       "    <tr>\n",
       "      <th>0</th>\n",
       "      <td>1</td>\n",
       "      <td>test_1</td>\n",
       "    </tr>\n",
       "    <tr>\n",
       "      <th>1</th>\n",
       "      <td>2</td>\n",
       "      <td>test_2</td>\n",
       "    </tr>\n",
       "    <tr>\n",
       "      <th>2</th>\n",
       "      <td>3</td>\n",
       "      <td>test_3</td>\n",
       "    </tr>\n",
       "    <tr>\n",
       "      <th>3</th>\n",
       "      <td>4</td>\n",
       "      <td>test_4</td>\n",
       "    </tr>\n",
       "    <tr>\n",
       "      <th>4</th>\n",
       "      <td>0</td>\n",
       "      <td>test</td>\n",
       "    </tr>\n",
       "  </tbody>\n",
       "</table>\n",
       "</div>"
      ],
      "text/plain": [
       "   id       0\n",
       "0   1  test_1\n",
       "1   2  test_2\n",
       "2   3  test_3\n",
       "3   4  test_4\n",
       "4   0    test"
      ]
     },
     "execution_count": 3,
     "metadata": {},
     "output_type": "execute_result"
    }
   ],
   "source": [
    "view = factory.view\n",
    "view.table"
   ]
  },
  {
   "cell_type": "code",
   "execution_count": 8,
   "id": "74089b1b",
   "metadata": {},
   "outputs": [
    {
     "name": "stdout",
     "output_type": "stream",
     "text": [
      "🆕 새로운 ID 생성: 4\n"
     ]
    },
    {
     "ename": "AttributeError",
     "evalue": "'str' object has no attribute 'as_posix'",
     "output_type": "error",
     "traceback": [
      "\u001b[1;31m---------------------------------------------------------------------------\u001b[0m",
      "\u001b[1;31mAttributeError\u001b[0m                            Traceback (most recent call last)",
      "Cell \u001b[1;32mIn[8], line 1\u001b[0m\n\u001b[1;32m----> 1\u001b[0m \u001b[43mdb\u001b[49m\u001b[38;5;241;43m.\u001b[39;49m\u001b[43mcreate\u001b[49m\u001b[43m(\u001b[49m\u001b[38;5;124;43m\"\u001b[39;49m\u001b[38;5;124;43mtest\u001b[39;49m\u001b[38;5;124;43m\"\u001b[39;49m\u001b[43m)\u001b[49m\n",
      "File \u001b[1;32mW:\\RM\\src\\mmdetection_rm\\work\\work_resource.py:145\u001b[0m, in \u001b[0;36mWorkDB.create\u001b[1;34m(self, name, main_config_file_path)\u001b[0m\n\u001b[0;32m    141\u001b[0m \u001b[38;5;28;01mif\u001b[39;00m main_config_file_path \u001b[38;5;129;01mis\u001b[39;00m \u001b[38;5;129;01mnot\u001b[39;00m \u001b[38;5;28;01mNone\u001b[39;00m:\n\u001b[0;32m    142\u001b[0m     shutil\u001b[38;5;241m.\u001b[39mcopy(main_config_file_path, \u001b[38;5;28mself\u001b[39m\u001b[38;5;241m.\u001b[39mDEFAULT_CONFIG_FILE_NAME)\n\u001b[0;32m    144\u001b[0m record\u001b[38;5;241m.\u001b[39mconfig_manager\u001b[38;5;241m.\u001b[39mset_config({\n\u001b[1;32m--> 145\u001b[0m     WorkConfigKey\u001b[38;5;241m.\u001b[39mMMDETECTION_CONFIG_FILE_PATH:\u001b[38;5;28;43mself\u001b[39;49m\u001b[38;5;241;43m.\u001b[39;49m\u001b[43mDEFAULT_CONFIG_FILE_NAME\u001b[49m\u001b[38;5;241;43m.\u001b[39;49m\u001b[43mas_posix\u001b[49m()\n\u001b[0;32m    146\u001b[0m })\n\u001b[0;32m    148\u001b[0m \u001b[38;5;28;01mreturn\u001b[39;00m record\n",
      "\u001b[1;31mAttributeError\u001b[0m: 'str' object has no attribute 'as_posix'"
     ]
    }
   ],
   "source": [
    "db.create(\"test\")\n"
   ]
  },
  {
   "cell_type": "code",
   "execution_count": 7,
   "id": "05961848",
   "metadata": {},
   "outputs": [],
   "source": [
    "work = db.get(2)"
   ]
  },
  {
   "cell_type": "code",
   "execution_count": 8,
   "id": "d3106f6a",
   "metadata": {},
   "outputs": [
    {
     "name": "stdout",
     "output_type": "stream",
     "text": [
      "***violating paths***\n",
      "Warning: W:\\RM\\resources\\works\\test_2___id_2\\work_config.json is violating the rules\n"
     ]
    },
    {
     "data": {
      "text/plain": [
       "TaskDB(dir_db=DirDB(dir_path=WindowsPath('W:/RM/resources/works/test_2___id_2'), factory=<rm.dirtree.factory.DirTreeFactory object at 0x000001B8C21F8940>), factory=TaskResourceFactory(dir_path=WindowsPath('W:/RM/resources/works/test_2___id_2'), CONFIG_MANAGER_CLASS=<class 'mmdetection_rm.work.task.TaskConfigManager'>, RECORD_CLASS=<class 'mmdetection_rm.work.task.TaskRecord'>, DB_CLASS=<class 'mmdetection_rm.work.task.TaskDB'>, VIEW_CLASS=<class 'mmdetection_rm.work.task.TaskDBView'>, CONFIG_NAME='task_config'), RECORD_CLASS=<class 'mmdetection_rm.work.task.TaskRecord'>)"
      ]
     },
     "execution_count": 8,
     "metadata": {},
     "output_type": "execute_result"
    }
   ],
   "source": [
    "work.task_db"
   ]
  },
  {
   "cell_type": "code",
   "execution_count": 10,
   "id": "c9dfd6ba",
   "metadata": {},
   "outputs": [
    {
     "name": "stdout",
     "output_type": "stream",
     "text": [
      "🆕 새로운 ID 생성: 0\n"
     ]
    },
    {
     "data": {
      "text/plain": [
       "TaskRecord(id=0, name='train', dir_path=WindowsPath('W:/RM/resources/works/test_2___id_2/train___id_0'), config_manager=TaskConfigManager(dir_path=WindowsPath('W:/RM/resources/works/test_2___id_2/train___id_0'), memo_factory=<rm.memo.factory.MemoFactory object at 0x000001B8E24E6590>, CONFIG_NAME='task_config'))"
      ]
     },
     "execution_count": 10,
     "metadata": {},
     "output_type": "execute_result"
    }
   ],
   "source": [
    "work.create_train_task(1, 1, 1)"
   ]
  },
  {
   "cell_type": "code",
   "execution_count": 11,
   "id": "2ca64cfc",
   "metadata": {},
   "outputs": [
    {
     "data": {
      "text/html": [
       "<div>\n",
       "<style scoped>\n",
       "    .dataframe tbody tr th:only-of-type {\n",
       "        vertical-align: middle;\n",
       "    }\n",
       "\n",
       "    .dataframe tbody tr th {\n",
       "        vertical-align: top;\n",
       "    }\n",
       "\n",
       "    .dataframe thead th {\n",
       "        text-align: right;\n",
       "    }\n",
       "</style>\n",
       "<table border=\"1\" class=\"dataframe\">\n",
       "  <thead>\n",
       "    <tr style=\"text-align: right;\">\n",
       "      <th></th>\n",
       "      <th>id</th>\n",
       "      <th>0</th>\n",
       "    </tr>\n",
       "  </thead>\n",
       "  <tbody>\n",
       "    <tr>\n",
       "      <th>0</th>\n",
       "      <td>0</td>\n",
       "      <td>train</td>\n",
       "    </tr>\n",
       "  </tbody>\n",
       "</table>\n",
       "</div>"
      ],
      "text/plain": [
       "   id      0\n",
       "0   0  train"
      ]
     },
     "execution_count": 11,
     "metadata": {},
     "output_type": "execute_result"
    }
   ],
   "source": [
    "work.task_view.table"
   ]
  },
  {
   "cell_type": "code",
   "execution_count": 2,
   "id": "94fe74e6",
   "metadata": {},
   "outputs": [
    {
     "data": {
      "text/plain": [
       "PosixPath('/home/submodules/mmdetection')"
      ]
     },
     "execution_count": 2,
     "metadata": {},
     "output_type": "execute_result"
    }
   ],
   "source": [
    "from resource_manager_mmdetection.env_config import project_root\n",
    "\n",
    "project_root"
   ]
  },
  {
   "cell_type": "code",
   "execution_count": 39,
   "id": "ceacc491",
   "metadata": {},
   "outputs": [],
   "source": [
    "from dataclasses import dataclass, asdict, is_dataclass, fields\n",
    "import json\n",
    "from typing import Any, Type\n",
    "\n",
    "# ✅ 1. 저장: dataclass → JSON\n",
    "def save_dataclass_to_json(obj: Any, filepath: str):\n",
    "    if not is_dataclass(obj):\n",
    "        raise TypeError(\"Input must be a dataclass instance.\")\n",
    "    with open(filepath, 'w') as f:\n",
    "        json.dump(asdict(obj), f, indent=2)\n",
    "\n",
    "# ✅ 2. 로드: JSON → dataclass (재귀 지원)\n",
    "def from_dict(cls: Type[Any], data: dict) -> Any:\n",
    "    \"\"\"\n",
    "    재귀적으로 dict 데이터를 dataclass로 변환\n",
    "    \"\"\"\n",
    "    if not is_dataclass(cls):\n",
    "        raise TypeError(\"cls must be a dataclass type.\")\n",
    "    kwargs = {}\n",
    "    for field in fields(cls):\n",
    "        value = data.get(field.name)\n",
    "        if is_dataclass(field.type) and isinstance(value, dict):\n",
    "            value = from_dict(field.type, value)\n",
    "        kwargs[field.name] = value\n",
    "    return cls(**kwargs)\n",
    "\n",
    "def load_dataclass_from_json(cls: Type[Any], filepath: str) -> Any:\n",
    "    with open(filepath, 'r') as f:\n",
    "        data = json.load(f)\n",
    "    return from_dict(cls, data)\n"
   ]
  },
  {
   "cell_type": "code",
   "execution_count": 3,
   "id": "be965873",
   "metadata": {},
   "outputs": [],
   "source": [
    "import os\n",
    "os.chdir(\"W:/RM/src\")"
   ]
  },
  {
   "cell_type": "code",
   "execution_count": 18,
   "id": "4c985822",
   "metadata": {},
   "outputs": [],
   "source": [
    "from rm.memo import MemoFactory\n",
    "\n",
    "import json\n",
    "from pathlib import Path\n",
    "from pydantic import BaseModel, Field, PrivateAttr\n",
    "from typing import Type, TypeVar\n",
    "from rm.memo import FileMemo\n",
    "\n",
    "T = TypeVar(\"T\", bound=\"AutoSavingModel\")\n",
    "\n",
    "\n",
    "class AutoSavingModel(BaseModel):\n",
    "    _memo: FileMemo = PrivateAttr()\n",
    "    _suspend_sync: bool = PrivateAttr(default=False)\n",
    "\n",
    "    def __init__(self, **data):\n",
    "        memo = data.pop(\"_memo\")\n",
    "        super().__init__(**data)\n",
    "        self._memo = memo\n",
    "        self._save()\n",
    "\n",
    "    def __setattr__(self, name, value):\n",
    "        super().__setattr__(name, value)\n",
    "        if not name.startswith(\"_\") and not self._suspend_sync:\n",
    "            self._save()\n",
    "\n",
    "    # @property\n",
    "    # def memo(self):\n",
    "    #     return self._memo_factory.make_file_memo(Path(\"test.json\"))\n",
    "\n",
    "    def _save(self):\n",
    "        self._memo.set(self.model_dump())\n",
    "\n",
    "    @classmethod\n",
    "    def load(cls: Type[T], memo: FileMemo) -> T:\n",
    "        content = memo.get()\n",
    "        return cls(_memo=memo, **content)\n",
    "\n",
    "class ModelConfig(AutoSavingModel):\n",
    "    name: str = Field(default=\"resnet\")\n",
    "    layers: int = Field(default=50)\n",
    "\n",
    "\n",
    "file_path = Path(\"test.json\")\n",
    "memo = MemoFactory().make_file_memo(file_path)\n",
    "\n",
    "# x = ModelConfig(_memo=memo, name=\"resnet\")\n",
    "# x._save()\n",
    "\n",
    "# x.name = \"hello1\"\n",
    "\n",
    "\n"
   ]
  },
  {
   "cell_type": "code",
   "execution_count": 20,
   "id": "2ecc8809",
   "metadata": {},
   "outputs": [
    {
     "data": {
      "text/plain": [
       "{}"
      ]
     },
     "execution_count": 20,
     "metadata": {},
     "output_type": "execute_result"
    }
   ],
   "source": [
    "memo.content"
   ]
  },
  {
   "cell_type": "code",
   "execution_count": 21,
   "id": "97638f18",
   "metadata": {},
   "outputs": [
    {
     "data": {
      "text/plain": [
       "ModelConfig(name='resnet', layers=50)"
      ]
     },
     "execution_count": 21,
     "metadata": {},
     "output_type": "execute_result"
    }
   ],
   "source": [
    "ModelConfig.load(memo)"
   ]
  },
  {
   "cell_type": "code",
   "execution_count": 5,
   "id": "733ce292",
   "metadata": {},
   "outputs": [
    {
     "data": {
      "text/plain": [
       "WindowsPath('test.yaml')"
      ]
     },
     "execution_count": 5,
     "metadata": {},
     "output_type": "execute_result"
    }
   ],
   "source": [
    "x.memo.file_path"
   ]
  },
  {
   "cell_type": "code",
   "execution_count": null,
   "id": "16efec6e",
   "metadata": {},
   "outputs": [],
   "source": []
  },
  {
   "cell_type": "code",
   "execution_count": null,
   "id": "a9b9c589",
   "metadata": {},
   "outputs": [],
   "source": []
  },
  {
   "cell_type": "code",
   "execution_count": null,
   "id": "b0ffcac4",
   "metadata": {},
   "outputs": [],
   "source": []
  },
  {
   "cell_type": "code",
   "execution_count": null,
   "id": "233c742d",
   "metadata": {},
   "outputs": [],
   "source": []
  },
  {
   "cell_type": "code",
   "execution_count": null,
   "id": "11ca5f88",
   "metadata": {},
   "outputs": [],
   "source": []
  },
  {
   "cell_type": "code",
   "execution_count": 13,
   "id": "f1b485ad",
   "metadata": {},
   "outputs": [
    {
     "data": {
      "text/plain": [
       "User(name='Alice', age=30)"
      ]
     },
     "execution_count": 13,
     "metadata": {},
     "output_type": "execute_result"
    }
   ],
   "source": [
    "class User(BaseModel):\n",
    "    name: str = Field(..., alias='fullName')\n",
    "    age: int\n",
    "\n",
    "u = User(fullName='Alice', age=30)  # ✅ 작동할 수도 있지만...\n",
    "\n",
    "# 보다 확실하게 작동하게 하려면:\n",
    "u = User.model_validate({'fullName': 'Alice', 'age': 30})\n",
    "u"
   ]
  },
  {
   "cell_type": "code",
   "execution_count": 24,
   "id": "24239792",
   "metadata": {},
   "outputs": [
    {
     "data": {
      "text/plain": [
       "True"
      ]
     },
     "execution_count": 24,
     "metadata": {},
     "output_type": "execute_result"
    }
   ],
   "source": [
    "is_directly_dataclass(AppConfig)"
   ]
  },
  {
   "cell_type": "code",
   "execution_count": 15,
   "id": "567cd344",
   "metadata": {},
   "outputs": [
    {
     "ename": "TypeError",
     "evalue": "DATA_CLASS.__init__() got an unexpected keyword argument 'model'",
     "output_type": "error",
     "traceback": [
      "\u001b[1;31m---------------------------------------------------------------------------\u001b[0m",
      "\u001b[1;31mTypeError\u001b[0m                                 Traceback (most recent call last)",
      "Cell \u001b[1;32mIn[15], line 2\u001b[0m\n\u001b[0;32m      1\u001b[0m \u001b[38;5;66;03m# 예시 객체\u001b[39;00m\n\u001b[1;32m----> 2\u001b[0m config \u001b[38;5;241m=\u001b[39m \u001b[43mAppConfig\u001b[49m\u001b[43m(\u001b[49m\u001b[43mmodel\u001b[49m\u001b[38;5;241;43m=\u001b[39;49m\u001b[43mModelConfig\u001b[49m\u001b[43m(\u001b[49m\u001b[43mname\u001b[49m\u001b[38;5;241;43m=\u001b[39;49m\u001b[38;5;124;43m\"\u001b[39;49m\u001b[38;5;124;43mresnet\u001b[39;49m\u001b[38;5;124;43m\"\u001b[39;49m\u001b[43m,\u001b[49m\u001b[43m \u001b[49m\u001b[43mlayers\u001b[49m\u001b[38;5;241;43m=\u001b[39;49m\u001b[38;5;241;43m50\u001b[39;49m\u001b[43m)\u001b[49m\u001b[43m,\u001b[49m\u001b[43m \u001b[49m\u001b[43mdebug\u001b[49m\u001b[38;5;241;43m=\u001b[39;49m\u001b[38;5;28;43;01mTrue\u001b[39;49;00m\u001b[43m)\u001b[49m\n\u001b[0;32m      4\u001b[0m \u001b[38;5;66;03m# 저장\u001b[39;00m\n\u001b[0;32m      5\u001b[0m save_dataclass_to_json(config, \u001b[38;5;124m'\u001b[39m\u001b[38;5;124mconfig.json\u001b[39m\u001b[38;5;124m'\u001b[39m)\n",
      "\u001b[1;31mTypeError\u001b[0m: DATA_CLASS.__init__() got an unexpected keyword argument 'model'"
     ]
    }
   ],
   "source": [
    "\n",
    "\n",
    "# 예시 객체\n",
    "config = AppConfig(model=ModelConfig(name=\"resnet\", layers=50), debug=True)\n",
    "\n",
    "# 저장\n",
    "save_dataclass_to_json(config, 'config.json')\n",
    "\n",
    "# 로드\n",
    "loaded_config: AppConfig = load_dataclass_from_json(AppConfig, 'config.json')\n",
    "\n",
    "print(loaded_config)\n",
    "\n",
    "loaded_config.model.layers"
   ]
  },
  {
   "cell_type": "code",
   "execution_count": 10,
   "id": "6c258052",
   "metadata": {},
   "outputs": [
    {
     "name": "stdout",
     "output_type": "stream",
     "text": [
      "AppConfig(model=ModelConfig(name='resnet', layers=50), debug=True)\n"
     ]
    }
   ],
   "source": [
    "loaded_config = load_dataclass_from_json(AppConfig, 'config.json')\n",
    "\n",
    "print(loaded_config)\n"
   ]
  },
  {
   "cell_type": "code",
   "execution_count": 14,
   "id": "1f5f0a15",
   "metadata": {},
   "outputs": [
    {
     "data": {
      "text/plain": [
       "50"
      ]
     },
     "execution_count": 14,
     "metadata": {},
     "output_type": "execute_result"
    }
   ],
   "source": []
  },
  {
   "cell_type": "code",
   "execution_count": null,
   "id": "28689e14",
   "metadata": {},
   "outputs": [],
   "source": []
  }
 ],
 "metadata": {
  "kernelspec": {
   "display_name": "GPTalk",
   "language": "python",
   "name": "python3"
  },
  "language_info": {
   "codemirror_mode": {
    "name": "ipython",
    "version": 3
   },
   "file_extension": ".py",
   "mimetype": "text/x-python",
   "name": "python",
   "nbconvert_exporter": "python",
   "pygments_lexer": "ipython3",
   "version": "3.10.0"
  }
 },
 "nbformat": 4,
 "nbformat_minor": 5
}
