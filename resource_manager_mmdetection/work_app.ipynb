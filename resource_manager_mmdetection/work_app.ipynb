{
 "cells": [
  {
   "cell_type": "code",
   "execution_count": null,
   "id": "df77017f",
   "metadata": {},
   "outputs": [
    {
     "name": "stdout",
     "output_type": "stream",
     "text": [
      "***violating paths***\n"
     ]
    },
    {
     "data": {
      "text/plain": [
       "'bear_train/base'"
      ]
     },
     "execution_count": 1,
     "metadata": {},
     "output_type": "execute_result"
    }
   ],
   "source": [
    "from resource_manager_mmdetection.work_resource import WorkResourceFactory\n",
    "\n",
    "factory = WorkResourceFactory()\n",
    "\n",
    "\n",
    "view = factory.view\n",
    "view.table\n",
    "\n",
    "db = factory.resource_db\n",
    "db.get(1).name"
   ]
  },
  {
   "cell_type": "code",
   "execution_count": 2,
   "id": "d3106f6a",
   "metadata": {},
   "outputs": [
    {
     "name": "stdout",
     "output_type": "stream",
     "text": [
      "***violating paths***\n",
      "Warning: /home/submodules/mmdetection/resources/works/db_metadata.json is violating the rules\n",
      "***violating paths***\n",
      "Warning: /home/submodules/mmdetection/resources/works/beverage_train_L10___id_12/work_config.json is violating the rules\n",
      "Warning: /home/submodules/mmdetection/resources/works/beverage_train_L10___id_12/db_metadata.json is violating the rules\n",
      "Warning: /home/submodules/mmdetection/resources/works/beverage_train_L10___id_12/default_value.py is violating the rules\n",
      "Warning: /home/submodules/mmdetection/resources/works/beverage_train_L10___id_12/mask2former.py is violating the rules\n",
      "***violating paths***\n",
      "Warning: /home/submodules/mmdetection/resources/works/db_metadata.json is violating the rules\n",
      "***violating paths***\n",
      "Warning: /home/submodules/mmdetection/resources/works/db_metadata.json is violating the rules\n"
     ]
    },
    {
     "data": {
      "text/plain": [
       "'python tools/train.py resources/works/beverage_train_L10___id_12/mask2former.py --cfg-options custom_config.work_id=12 custom_config.task_id=0'"
      ]
     },
     "execution_count": 2,
     "metadata": {},
     "output_type": "execute_result"
    }
   ],
   "source": [
    "from resource_manager_mmdetection.work_resource import WorkResourceFactory\n",
    "\n",
    "factory = WorkResourceFactory()\n",
    "\n",
    "work = factory.resource_db.get(12)\n",
    "\n",
    "work.task_db.get(0).main_config_file_path\n",
    "\n",
    "work.task_db.get(0).make_run_command()"
   ]
  },
  {
   "cell_type": "code",
   "execution_count": 2,
   "id": "94fe74e6",
   "metadata": {},
   "outputs": [
    {
     "data": {
      "text/plain": [
       "PosixPath('/home/submodules/mmdetection')"
      ]
     },
     "execution_count": 2,
     "metadata": {},
     "output_type": "execute_result"
    }
   ],
   "source": [
    "from resource_manager_mmdetection.env_config import project_root\n",
    "\n",
    "project_root"
   ]
  },
  {
   "cell_type": "code",
   "execution_count": null,
   "id": "ceacc491",
   "metadata": {},
   "outputs": [],
   "source": []
  }
 ],
 "metadata": {
  "kernelspec": {
   "display_name": "base",
   "language": "python",
   "name": "python3"
  },
  "language_info": {
   "codemirror_mode": {
    "name": "ipython",
    "version": 3
   },
   "file_extension": ".py",
   "mimetype": "text/x-python",
   "name": "python",
   "nbconvert_exporter": "python",
   "pygments_lexer": "ipython3",
   "version": "3.10.11"
  }
 },
 "nbformat": 4,
 "nbformat_minor": 5
}
